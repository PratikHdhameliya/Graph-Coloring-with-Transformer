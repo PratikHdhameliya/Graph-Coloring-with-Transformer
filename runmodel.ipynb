{
 "cells": [
  {
   "cell_type": "code",
   "execution_count": 1,
   "metadata": {},
   "outputs": [],
   "source": [
    "import os\n",
    "import random\n",
    "import torch\n",
    "import networkx as nx\n",
    "import math\n",
    "from math import inf\n",
    "import torch.optim as optim\n",
    "from torch.optim.lr_scheduler import StepLR\n",
    "import torch.nn.functional as F\n",
    "import torch.nn as nn\n",
    "from torch.nn import MultiheadAttention, LayerNorm\n",
    "from concurrent.futures import ThreadPoolExecutor\n",
    "import zipfile "
   ]
  },
  {
   "cell_type": "code",
   "execution_count": 2,
   "metadata": {},
   "outputs": [
    {
     "name": "stdout",
     "output_type": "stream",
     "text": [
      "Files extracted to: C:\\Users\\dhame\\OneDrive\\Desktop\\Git Hub\\Graph-Coloring-with-Transformer\\Data\\Train\\3-Col\n"
     ]
    }
   ],
   "source": [
    "# THE PATH TO THE ZIP FILE\n",
    "zip_file_path = 'C:\\\\Users\\\\dhame\\\\OneDrive\\\\Desktop\\\\Git Hub\\\\Graph-Coloring-with-Transformer\\\\Data\\\\Train\\\\3-Col.zip'\n",
    "\n",
    "\n",
    "extract_path = 'C:\\\\Users\\\\dhame\\\\OneDrive\\\\Desktop\\\\Git Hub\\\\Graph-Coloring-with-Transformer\\\\Data\\\\Train\\\\3-Col'  # Folder where files will be extracted\n",
    "\n",
    "with zipfile.ZipFile(zip_file_path, 'r') as zip_ref:\n",
    "    zip_ref.extractall(extract_path)\n",
    "    print(f\"Files extracted to: {extract_path}\")"
   ]
  },
  {
   "cell_type": "code",
   "execution_count": null,
   "metadata": {},
   "outputs": [],
   "source": [
    "import torch\n",
    "from train import train_attention_with_scheduler\n",
    "\n",
    "if __name__ == \"__main__\":\n",
    "    device = \"cuda\" if torch.cuda.is_available() else \"cpu\"\n",
    "    trained_model = train_attention_with_scheduler(\n",
    "        folder=\"3-Col\",\n",
    "        num_colors=3,\n",
    "        embed_dim=128,\n",
    "        n_layers=5,\n",
    "        lr=6*1e-5,\n",
    "        epochs=50,\n",
    "        device=device,\n",
    "        step_size=5,\n",
    "        gamma=0.8\n",
    "    )"
   ]
  },
  {
   "cell_type": "code",
   "execution_count": null,
   "metadata": {},
   "outputs": [],
   "source": [
    "from test import test_folder\n",
    "from test import test_saved_model_on_4folders\n",
    "if __name__ == \"__main__\":\n",
    "    # Example usage:\n",
    "    test_saved_model_on_4folders(\n",
    "        checkpoint_path=\"checkpoints/best_model.pth\",\n",
    "        cc_folder=\"cc_graphs\",\n",
    "        geo_folder=\"geo_graphs\",\n",
    "        pwl_folder=\"pwl_graphs\",\n",
    "        gnm_folder=\"gnm_graphs\",\n",
    "        num_colors=3,\n",
    "        embed_dim=128,\n",
    "        n_layers=10,\n",
    "        passes=10,\n",
    "        device=\"cuda\" if torch.cuda.is_available() else \"cpu\"\n",
    "    )"
   ]
  }
 ],
 "metadata": {
  "kernelspec": {
   "display_name": "Python 3",
   "language": "python",
   "name": "python3"
  },
  "language_info": {
   "codemirror_mode": {
    "name": "ipython",
    "version": 3
   },
   "file_extension": ".py",
   "mimetype": "text/x-python",
   "name": "python",
   "nbconvert_exporter": "python",
   "pygments_lexer": "ipython3",
   "version": "3.11.9"
  }
 },
 "nbformat": 4,
 "nbformat_minor": 2
}
